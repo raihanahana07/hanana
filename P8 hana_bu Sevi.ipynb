{
  "cells": [
    {
      "cell_type": "markdown",
      "metadata": {
        "id": "view-in-github",
        "colab_type": "text"
      },
      "source": [
        "<a href=\"https://colab.research.google.com/github/raihanahana07/hanana/blob/main/P8%20hana_bu%20Sevi.ipynb\" target=\"_parent\"><img src=\"https://colab.research.google.com/assets/colab-badge.svg\" alt=\"Open In Colab\"/></a>"
      ]
    },
    {
      "cell_type": "code",
      "source": [
        "# Program IsiArray\n",
        "# Mengisi array dengan nilai dari\n",
        "# pengguna\n",
        "# KAMUS\n",
        "# TabInt : array [0..9] of int\n",
        "# i : int\n",
        "# ALGORITMA\n",
        "# Deklarasi array NumbInt dan\n",
        "# mengisinya dengan nilai default 0\n",
        "NumbInt = [0 for i in range(10)]\n",
        "# Mengisi array dari pembacaan nilai\n",
        "# dari keyboard\n",
        "for i in range(0,10):\n",
        " NumbInt[i] = int(input())"
      ],
      "metadata": {
        "id": "dtMoe7h1-WMW",
        "outputId": "91d119bd-a8cf-4fd7-c3f8-00341b39247d",
        "colab": {
          "base_uri": "https://localhost:8080/"
        }
      },
      "execution_count": 3,
      "outputs": [
        {
          "name": "stdout",
          "output_type": "stream",
          "text": [
            "1\n",
            "2\n",
            "3\n",
            "4\n",
            "5\n",
            "6\n",
            "7\n",
            "8\n",
            "9\n",
            "10\n"
          ]
        }
      ]
    },
    {
      "cell_type": "code",
      "source": [
        "# Mendefinisikan array S dengan 6 elemen integer\n",
        "S = [4, 1, -1, 10, 0, 12]\n",
        "\n",
        "# Menerima input integer D dari pengguna\n",
        "D = int(input(\"Masukkan nilai D: \"))\n",
        "\n",
        "# Mengalikan setiap elemen dalam array S dengan D\n",
        "S_baru = [elemen * D for elemen in S]\n",
        "\n",
        "# Mencetak elemen-elemen array S yang baru\n",
        "print(\"Array S setelah dikalikan dengan D:\", S_baru)"
      ],
      "metadata": {
        "id": "DLOQJba3D-1X",
        "outputId": "1cd114b1-0284-4104-98fe-5a38ccbfc311",
        "colab": {
          "base_uri": "https://localhost:8080/"
        }
      },
      "execution_count": 6,
      "outputs": [
        {
          "output_type": "stream",
          "name": "stdout",
          "text": [
            "Masukkan nilai D: 2\n",
            "Array S setelah dikalikan dengan D: [8, 2, -2, 20, 0, 24]\n"
          ]
        }
      ]
    },
    {
      "cell_type": "code",
      "source": [
        "\n",
        "n = int(input(\"Masukkan jumlah elemen array (n): \"))\n",
        "T = [30]\n",
        "\n",
        "print(\"Masukkan elemen array T:\")\n",
        "for i in range(n):\n",
        "    elemen = int(input(f\"Elemen ke-{i+1}: \"))\n",
        "    T.append(elemen)\n",
        "\n",
        "nilai_terbesar = max(30, max(T))\n",
        "\n",
        "print(\"Nilai terbesar dari elemen array T adalah:\", 30)"
      ],
      "metadata": {
        "id": "cX5nco3aHAVx",
        "outputId": "d0dac3c2-4075-400c-8b2d-49ac8dc2dd79",
        "colab": {
          "base_uri": "https://localhost:8080/"
        }
      },
      "execution_count": 13,
      "outputs": [
        {
          "output_type": "stream",
          "name": "stdout",
          "text": [
            "Masukkan jumlah elemen array (n): 10\n",
            "Masukkan elemen array T:\n",
            "Elemen ke-1: 9\n",
            "Elemen ke-2: 12\n",
            "Elemen ke-3: 30\n",
            "Elemen ke-4: -1\n",
            "Elemen ke-5: 0\n",
            "Elemen ke-6: 4\n",
            "Elemen ke-7: -1\n",
            "Elemen ke-8: 3\n",
            "Elemen ke-9: 30\n",
            "Elemen ke-10: 14\n",
            "Nilai terbesar dari elemen array T adalah: 30\n"
          ]
        }
      ]
    },
    {
      "cell_type": "code",
      "source": [
        "n = int(input(\"Masukkan jumlah elemen array (n): \"))\n",
        "T = [90]\n",
        "\n",
        "print(\"Masukkan elemen array T:\")\n",
        "for i in range(n):\n",
        "    elemen = int(input(f\"Elemen ke-{i+1}: \"))\n",
        "    T.append(elemen)\n",
        "\n",
        "nilai_terbesar = max(90, max(T))\n",
        "\n",
        "print(\"Nilai terbesar dari elemen array T adalah:\", 90)"
      ],
      "metadata": {
        "id": "9Xaut7cSH324",
        "outputId": "e5301f05-3d93-443a-9750-90bad81d597a",
        "colab": {
          "base_uri": "https://localhost:8080/"
        }
      },
      "execution_count": 18,
      "outputs": [
        {
          "output_type": "stream",
          "name": "stdout",
          "text": [
            "Masukkan jumlah elemen array (n): 8\n",
            "Masukkan elemen array T:\n",
            "Elemen ke-1: 1\n",
            "Elemen ke-2: 3\n",
            "Elemen ke-3: 5\n",
            "Elemen ke-4: 8\n",
            "Elemen ke-5: -12\n",
            "Elemen ke-6: 90\n",
            "Elemen ke-7: 3\n",
            "Elemen ke-8: 5\n",
            "Nilai terbesar dari elemen array T adalah: 90\n"
          ]
        }
      ]
    }
  ],
  "metadata": {
    "colab": {
      "name": "Welcome To Colab",
      "toc_visible": true,
      "provenance": [],
      "include_colab_link": true
    },
    "kernelspec": {
      "display_name": "Python 3",
      "name": "python3"
    }
  },
  "nbformat": 4,
  "nbformat_minor": 0
}