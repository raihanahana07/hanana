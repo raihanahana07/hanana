{
  "cells": [
    {
      "cell_type": "markdown",
      "metadata": {
        "id": "view-in-github",
        "colab_type": "text"
      },
      "source": [
        "<a href=\"https://colab.research.google.com/github/raihanahana07/hanana/blob/main/raihana%20p7.ipynb\" target=\"_parent\"><img src=\"https://colab.research.google.com/assets/colab-badge.svg\" alt=\"Open In Colab\"/></a>"
      ]
    },
    {
      "cell_type": "code",
      "source": [
        "def lagu_anak_ayam_for(n):\n",
        "    for i in range(n, 0, -1):\n",
        "        if i > 1:\n",
        "            print(f\"Anak ayam turunlah {i}, mati satu tinggallah {i-1}\")\n",
        "        else:\n",
        "            print(f\"Anak ayam turunlah {i}, mati satu tinggal induknya\")\n",
        "\n",
        "# Contoh pemanggilan fungsi\n",
        "lagu_anak_ayam_for(5)"
      ],
      "metadata": {
        "id": "ziFauezUYmDs",
        "outputId": "3bac73d3-699e-4f9f-d3fd-605bf24a56c6",
        "colab": {
          "base_uri": "https://localhost:8080/"
        }
      },
      "execution_count": 1,
      "outputs": [
        {
          "output_type": "stream",
          "name": "stdout",
          "text": [
            "Anak ayam turunlah 5, mati satu tinggallah 4\n",
            "Anak ayam turunlah 4, mati satu tinggallah 3\n",
            "Anak ayam turunlah 3, mati satu tinggallah 2\n",
            "Anak ayam turunlah 2, mati satu tinggallah 1\n",
            "Anak ayam turunlah 1, mati satu tinggal induknya\n"
          ]
        }
      ]
    },
    {
      "cell_type": "code",
      "source": [
        "def lagu_anak_ayam_while(n):\n",
        "    while n > 0:\n",
        "        if n > 1:\n",
        "            print(f\"Anak ayam turunlah {n}, mati satu tinggallah {n-1}\")\n",
        "        else:\n",
        "            print(f\"Anak ayam turunlah {n}, mati satu tinggal induknya\")\n",
        "        n -= 1\n",
        "\n",
        "# Contoh pemanggilan fungsi\n",
        "lagu_anak_ayam_while(5)"
      ],
      "metadata": {
        "id": "Hms3UDQCZTrj",
        "outputId": "24da2007-ed28-4a8d-8937-cf1e6f96cee5",
        "colab": {
          "base_uri": "https://localhost:8080/"
        }
      },
      "execution_count": 2,
      "outputs": [
        {
          "output_type": "stream",
          "name": "stdout",
          "text": [
            "Anak ayam turunlah 5, mati satu tinggallah 4\n",
            "Anak ayam turunlah 4, mati satu tinggallah 3\n",
            "Anak ayam turunlah 3, mati satu tinggallah 2\n",
            "Anak ayam turunlah 2, mati satu tinggallah 1\n",
            "Anak ayam turunlah 1, mati satu tinggal induknya\n"
          ]
        }
      ]
    },
    {
      "cell_type": "code",
      "source": [
        "def lagu_anak_ayam_format(n):\n",
        "    for i in range(n, 0, -1):\n",
        "        print(f\"Anak ayam turunlah {i}, mati satu tinggallah {i-1 if i > 1 else 'induknya'}\")\n",
        "\n",
        "# Contoh pemanggilan fungsi\n",
        "lagu_anak_ayam_format(5)"
      ],
      "metadata": {
        "id": "l8hxVIg1ZduP",
        "outputId": "d0b43759-cc03-4043-f95f-14eecd4a46de",
        "colab": {
          "base_uri": "https://localhost:8080/"
        }
      },
      "execution_count": 3,
      "outputs": [
        {
          "output_type": "stream",
          "name": "stdout",
          "text": [
            "Anak ayam turunlah 5, mati satu tinggallah 4\n",
            "Anak ayam turunlah 4, mati satu tinggallah 3\n",
            "Anak ayam turunlah 3, mati satu tinggallah 2\n",
            "Anak ayam turunlah 2, mati satu tinggallah 1\n",
            "Anak ayam turunlah 1, mati satu tinggallah induknya\n"
          ]
        }
      ]
    }
  ],
  "metadata": {
    "colab": {
      "name": "Welcome To Colab",
      "toc_visible": true,
      "provenance": [],
      "include_colab_link": true
    },
    "kernelspec": {
      "display_name": "Python 3",
      "name": "python3"
    }
  },
  "nbformat": 4,
  "nbformat_minor": 0
}