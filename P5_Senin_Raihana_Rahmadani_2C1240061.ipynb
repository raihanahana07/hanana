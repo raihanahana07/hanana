{
  "nbformat": 4,
  "nbformat_minor": 0,
  "metadata": {
    "colab": {
      "provenance": [],
      "authorship_tag": "ABX9TyM6+BKKJEn11FhADzMeN/eG",
      "include_colab_link": true
    },
    "kernelspec": {
      "name": "python3",
      "display_name": "Python 3"
    },
    "language_info": {
      "name": "python"
    }
  },
  "cells": [
    {
      "cell_type": "markdown",
      "metadata": {
        "id": "view-in-github",
        "colab_type": "text"
      },
      "source": [
        "<a href=\"https://colab.research.google.com/github/raihanahana07/hanana/blob/main/P5_Senin_Raihana_Rahmadani_2C1240061.ipynb\" target=\"_parent\"><img src=\"https://colab.research.google.com/assets/colab-badge.svg\" alt=\"Open In Colab\"/></a>"
      ]
    },
    {
      "cell_type": "code",
      "execution_count": 1,
      "metadata": {
        "colab": {
          "base_uri": "https://localhost:8080/"
        },
        "id": "DiEOK4pE0z_A",
        "outputId": "0a21e89d-fdd1-460f-a800-b4eaf2daa022"
      },
      "outputs": [
        {
          "output_type": "stream",
          "name": "stdout",
          "text": [
            "Hello, World\n"
          ]
        }
      ],
      "source": [
        "#Program HelloWorld\n",
        "#Mencetak Hello, World! ke layar\n",
        "\n",
        "#KAMUS\n",
        "#belum diperlukan\n",
        "\n",
        "#ALGORITMA\n",
        "print('Hello, World')"
      ]
    },
    {
      "cell_type": "code",
      "source": [
        "#Program Test\n",
        "#Spesifikasi : Menghitung nilai A dan B\n",
        "\n",
        "#KAMUS\n",
        "#A : int\n",
        "#B : int\n",
        "\n",
        "#ALGORITMA\n",
        "A = int(input('Masukkan nilai A='))           #input\n",
        "B = int(input('Masukkan nilai B='))\n",
        "\n",
        "A = A + B                  #proses\n",
        "\n",
        "print(A)                   #output\n",
        "print(B)"
      ],
      "metadata": {
        "colab": {
          "base_uri": "https://localhost:8080/"
        },
        "id": "_1JdOVno2lrq",
        "outputId": "fe32b295-196b-48d5-e261-622d82926108"
      },
      "execution_count": 13,
      "outputs": [
        {
          "output_type": "stream",
          "name": "stdout",
          "text": [
            "Masukkan nilai A=3\n",
            "Masukkan nilai B=6\n",
            "9\n",
            "6\n"
          ]
        }
      ]
    },
    {
      "cell_type": "code",
      "source": [
        "#Program Tinggiratarata\n",
        "#Menerima harga 3 keleremg dan menghitung rata-ratanya\n",
        "\n",
        "#KAMUS\n",
        "# M : Int\n",
        "# H : Int\n",
        "# K : Int\n",
        "\n",
        "#ALGORITMA\n",
        "M=int(input(\"Masukan jumlah kelereng merah: \"))\n",
        "H=int(input(\"Masukkan jumlah kelereng hijau:\"))\n",
        "K=int(input(\"Masukkan jumlah kelereng Kuning:\"))\n",
        "\n",
        "HargaPembayaran =(M*10 + H*15 + K*20)\n",
        "print(HargaPembayaran)"
      ],
      "metadata": {
        "colab": {
          "base_uri": "https://localhost:8080/"
        },
        "id": "EQfnHTLW9v06",
        "outputId": "dd6f8659-0947-4a47-b75c-75405529aab3"
      },
      "execution_count": 25,
      "outputs": [
        {
          "output_type": "stream",
          "name": "stdout",
          "text": [
            "Masukan jumlah kelereng merah: 10\n",
            "Masukkan jumlah kelereng hijau:15\n",
            "Masukkan jumlah kelereng Kuning20\n",
            "725\n"
          ]
        }
      ]
    },
    {
      "cell_type": "code",
      "source": [
        "print(\"Hello Eorld\")\n"
      ],
      "metadata": {
        "colab": {
          "base_uri": "https://localhost:8080/"
        },
        "id": "R3z4lcGlG2v3",
        "outputId": "0ebdbb2f-8935-4e6b-bf86-16c4ca4cb122"
      },
      "execution_count": 1,
      "outputs": [
        {
          "output_type": "stream",
          "name": "stdout",
          "text": [
            "Hello world\n"
          ]
        }
      ]
    }
  ]
}