{
  "nbformat": 4,
  "nbformat_minor": 0,
  "metadata": {
    "colab": {
      "provenance": [],
      "authorship_tag": "ABX9TyPVDh7Si6yP3y/javy0ZACs",
      "include_colab_link": true
    },
    "kernelspec": {
      "name": "python3",
      "display_name": "Python 3"
    },
    "language_info": {
      "name": "python"
    }
  },
  "cells": [
    {
      "cell_type": "markdown",
      "metadata": {
        "id": "view-in-github",
        "colab_type": "text"
      },
      "source": [
        "<a href=\"https://colab.research.google.com/github/raihanahana07/hanana/blob/main/P5_Senin_Raihana_Rahmadani_2C1240061.ipynb\" target=\"_parent\"><img src=\"https://colab.research.google.com/assets/colab-badge.svg\" alt=\"Open In Colab\"/></a>"
      ]
    },
    {
      "cell_type": "code",
      "execution_count": 1,
      "metadata": {
        "colab": {
          "base_uri": "https://localhost:8080/"
        },
        "id": "DiEOK4pE0z_A",
        "outputId": "0a21e89d-fdd1-460f-a800-b4eaf2daa022"
      },
      "outputs": [
        {
          "output_type": "stream",
          "name": "stdout",
          "text": [
            "Hello, World\n"
          ]
        }
      ],
      "source": [
        "#Program HelloWorld\n",
        "#Mencetak Hello, World! ke layar\n",
        "\n",
        "#KAMUS\n",
        "#belum diperlukan\n",
        "\n",
        "#ALGORITMA\n",
        "print('Hello, World')"
      ]
    },
    {
      "cell_type": "code",
      "source": [
        "#Program Test\n",
        "#Spesifikasi : Menghitung nilai A dan B\n",
        "\n",
        "#KAMUS\n",
        "#A : int\n",
        "#B : int\n",
        "\n",
        "#ALGORITMA\n",
        "A = int(input('Masukkan nilai A='))           #input\n",
        "B = int(input('Masukkan nilai B='))\n",
        "\n",
        "A = A + B                  #proses\n",
        "\n",
        "print(A)                   #output\n",
        "print(B)"
      ],
      "metadata": {
        "colab": {
          "base_uri": "https://localhost:8080/"
        },
        "id": "_1JdOVno2lrq",
        "outputId": "fe32b295-196b-48d5-e261-622d82926108"
      },
      "execution_count": 13,
      "outputs": [
        {
          "output_type": "stream",
          "name": "stdout",
          "text": [
            "Masukkan nilai A=3\n",
            "Masukkan nilai B=6\n",
            "9\n",
            "6\n"
          ]
        }
      ]
    },
    {
      "cell_type": "code",
      "source": [
        "#Program Tinggiratarata\n",
        "#Menerima harga 3 keleremg dan menghitung rata-ratanya\n",
        "\n",
        "#KAMUS\n",
        "# M : Int\n",
        "# H : Int\n",
        "# K : Int\n",
        "\n",
        "#ALGORITMA\n",
        "M=int(input(\"Masukan jumlah kelereng merah: \"))\n",
        "H=int(input(\"Masukkan jumlah kelereng hijau:\"))\n",
        "K=int(input(\"Masukkan jumlah kelereng Kuning:\"))\n",
        "\n",
        "HargaPembayaran =(M*10 + H*15 + K*20)\n",
        "print(HargaPembayaran)"
      ],
      "metadata": {
        "colab": {
          "base_uri": "https://localhost:8080/"
        },
        "id": "EQfnHTLW9v06",
        "outputId": "dd6f8659-0947-4a47-b75c-75405529aab3"
      },
      "execution_count": 25,
      "outputs": [
        {
          "output_type": "stream",
          "name": "stdout",
          "text": [
            "Masukan jumlah kelereng merah: 10\n",
            "Masukkan jumlah kelereng hijau:15\n",
            "Masukkan jumlah kelereng Kuning20\n",
            "725\n"
          ]
        }
      ]
    },
    {
      "cell_type": "code",
      "source": [
        "print(\"Hello Eorld\")\n"
      ],
      "metadata": {
        "colab": {
          "base_uri": "https://localhost:8080/"
        },
        "id": "R3z4lcGlG2v3",
        "outputId": "0ebdbb2f-8935-4e6b-bf86-16c4ca4cb122"
      },
      "execution_count": 1,
      "outputs": [
        {
          "output_type": "stream",
          "name": "stdout",
          "text": [
            "Hello world\n"
          ]
        }
      ]
    },
    {
      "cell_type": "code",
      "source": [
        "#proses memasukan data ke dalam variabel\n",
        "nama = \"John Doe\"\n",
        "#proses mencetak variabel\n",
        "print(nama)\n",
        "#nilai dan tipe data dalam variabel dapat diubah\n",
        "umur = 20 #nilai awal\n",
        "print(umur) #mencetak nilai umur\n",
        "type(umur) #mengecek tipe data umur\n",
        "umur = \"dua puluh satu\" #nilai setelah diubah\n",
        "print(umur) #mencetak nilai umur\n",
        "type(umur) #mengecek tipe data umur\n",
        "namaDepan = \"Budi\"\n",
        "namaBelakang = \"Susanto\"\n",
        "nama = namaDepan + \" \" + namaBelakang\n",
        "umur = 22\n",
        "hobi = \"Berenang\"\n",
        "print(\"Biodata\\n\", nama, \"\\n\", umur, \"\\n\", hobi)\n",
        "#contoh variabel lainya\n",
        "inivariabel = \"Halo\"\n",
        "ini_juga_variabel = \"Hai\"\n",
        "_inivariabeljuga = \"Hi\"\n",
        "inivariabel222 = \"Bye\"\n",
        "panjang = 10\n",
        "lebar = 5\n",
        "luas = panjang * lebar\n",
        "print(luas)"
      ],
      "metadata": {
        "colab": {
          "base_uri": "https://localhost:8080/"
        },
        "id": "O4QU5c7vLq4R",
        "outputId": "df5db375-cdb1-4071-b146-96fd69a50775"
      },
      "execution_count": 2,
      "outputs": [
        {
          "output_type": "stream",
          "name": "stdout",
          "text": [
            "John Doe\n",
            "20\n",
            "dua puluh satu\n",
            "Biodata\n",
            " Budi Susanto \n",
            " 22 \n",
            " Berenang\n",
            "50\n"
          ]
        }
      ]
    },
    {
      "cell_type": "code",
      "source": [
        "S = input(\"Masukkan kalimat: \") #(1)\n",
        "print(\"Anda memasuk kan kalimat: \" + S) #(2)\n",
        "N = int(input(\"Masukkan sebuah angka: \")) # (3)\n",
        "print(\"Jika angka Anda ditambah 5, hasilnya: \" + str(N + 5)) #(4)"
      ],
      "metadata": {
        "colab": {
          "base_uri": "https://localhost:8080/"
        },
        "id": "YgDNV8ILMs0d",
        "outputId": "f50bc893-5d40-42bb-ec51-c2c577f97ec3"
      },
      "execution_count": 3,
      "outputs": [
        {
          "output_type": "stream",
          "name": "stdout",
          "text": [
            "Masukkan kalimat: algoritma\n",
            "Anda memasuk kan kalimat: algoritma\n",
            "Masukkan sebuah angka: 5\n",
            "Jika angka Anda ditambah 5, hasilnya: 10\n"
          ]
        }
      ]
    },
    {
      "cell_type": "code",
      "source": [
        "#tipe data Boolean\n",
        "print(True)\n",
        "#tipe data String\n",
        "print(\"Ayo belajar Python\")\n",
        "print('Belajar Python Sangat Mudah')\n",
        "#tipe data Integer\n",
        "print(20)\n",
        "#tipe data Float\n",
        "print(3.14)\n",
        "#tipe data Hexadecimal\n",
        "print(0x9a) # Perbaikan: menambahkan awalan 0x\n",
        "#tipe data Complex\n",
        "print(5j)\n",
        "#tipe data List\n",
        "print([1,2,3,4,5])\n",
        "print([\"satu\", \"dua\", \"tiga\"])\n",
        "#tipe data Tuple\n",
        "print((1,2,3,4,5))\n",
        "print((\"satu\", \"dua\", \"tiga\"))\n",
        "#tipe data Dictionary\n",
        "print({\"nama\":\"Budi\", 'umur':20})\n",
        "#tipe data Dictionary dimasukan ke dalam variabel biodata\n",
        "biodata = {\"nama\":\"Andi\", 'umur':21} #proses inisialisasi variabel biodata\n",
        "print(biodata) #proses pencetakan variabel biodata yang berisi tipe data\n",
        "\n",
        "print(type(biodata)) #fungsi untuk mengecek jenis tipe data. akan tampil\n"
      ],
      "metadata": {
        "colab": {
          "base_uri": "https://localhost:8080/"
        },
        "id": "_IBcuzX2NjSt",
        "outputId": "66352007-60e6-4ba5-99fa-9121ad63e979"
      },
      "execution_count": 5,
      "outputs": [
        {
          "output_type": "stream",
          "name": "stdout",
          "text": [
            "True\n",
            "Ayo belajar Python\n",
            "Belajar Python Sangat Mudah\n",
            "20\n",
            "3.14\n",
            "154\n",
            "5j\n",
            "[1, 2, 3, 4, 5]\n",
            "['satu', 'dua', 'tiga']\n",
            "(1, 2, 3, 4, 5)\n",
            "('satu', 'dua', 'tiga')\n",
            "{'nama': 'Budi', 'umur': 20}\n",
            "{'nama': 'Andi', 'umur': 21}\n",
            "<class 'dict'>\n"
          ]
        }
      ]
    },
    {
      "cell_type": "code",
      "source": [
        "x = float(5)\n",
        "print(x)"
      ],
      "metadata": {
        "colab": {
          "base_uri": "https://localhost:8080/"
        },
        "id": "Td5c5JYfN2j-",
        "outputId": "bf96e756-099d-4cc1-8f52-4a59f08021a2"
      },
      "execution_count": 6,
      "outputs": [
        {
          "output_type": "stream",
          "name": "stdout",
          "text": [
            "5.0\n"
          ]
        }
      ]
    },
    {
      "cell_type": "code",
      "source": [
        "x = float(5)\n",
        "print(x)"
      ],
      "metadata": {
        "colab": {
          "base_uri": "https://localhost:8080/"
        },
        "id": "cW-_3DcmOCQ_",
        "outputId": "bccebc60-15ee-49e6-985f-56f39687c7ab"
      },
      "execution_count": 7,
      "outputs": [
        {
          "output_type": "stream",
          "name": "stdout",
          "text": [
            "5.0\n"
          ]
        }
      ]
    },
    {
      "cell_type": "code",
      "source": [
        "x = set([1, 2, 3])\n",
        "y = tuple({5, 6, 7})\n",
        "z = list((\"hello\"))\n",
        "print(x)\n",
        "print(y)\n",
        "print(z)"
      ],
      "metadata": {
        "colab": {
          "base_uri": "https://localhost:8080/"
        },
        "id": "tgQH13nhOLWm",
        "outputId": "08d5e807-37ec-4b68-b2a4-41ad5254e4ae"
      },
      "execution_count": 9,
      "outputs": [
        {
          "output_type": "stream",
          "name": "stdout",
          "text": [
            "{1, 2, 3}\n",
            "(5, 6, 7)\n",
            "['h', 'e', 'l', 'l', 'o']\n"
          ]
        }
      ]
    },
    {
      "cell_type": "code",
      "source": [
        "# Penjumlahan\n",
        "print(13 + 2)\n",
        "apel = 7\n",
        "jeruk = 9\n",
        "buah = apel + jeruk # Menjumlahkan jumlah apel dan jeruk\n",
        "print(f\"Jumlah buah: {buah}\")\n",
        "# Pengurangan\n",
        "hutang = 10000\n",
        "bayar = 5000\n",
        "sisa_hutang = hutang - bayar # Menghitung sisa hutang\n",
        "print(f\"Sisa hutang Anda adalah {sisa_hutang}\")\n",
        "# Perkalian\n",
        "panjang = 15\n",
        "lebar = 8\n",
        "luas = panjang * lebar # Menghitung luas persegi panjang\n",
        "print(f\"Luas persegi panjang: {luas}\")\n",
        "# Pembagian\n",
        "kue = 16\n",
        "anak = 4\n",
        "kue_per_anak = kue / anak # Menghitung bagian kue per anak\n",
        "print(f\"Setiap anak akan mendapatkan bagian kue sebanyak {kue_per_anak}\")\n",
        "# Sisa Bagi / Modulus\n",
        "bilangan1 = 14\n",
        "bilangan2 = 5\n",
        "hasil = bilangan1 % bilangan2 # Menghitung sisa bagi\n",
        "print\n",
        "\n",
        "# Pangkat\n",
        "bilangan3 = 8\n",
        "bilangan4 = 2\n",
        "hasil_pangkat = bilangan3 ** bilangan4 # Menghitung hasil pangkat\n",
        "print(f\"Hasil pangkat: {hasil_pangkat}\")\n",
        "# Pembagian Bulat\n",
        "print(10 // 3)\n",
        "# 10 dibagi 3 adalah 3.3333. Karena dibulatkan maka akan menghasilkan\n"
      ],
      "metadata": {
        "colab": {
          "base_uri": "https://localhost:8080/"
        },
        "id": "9hSVbi9HPDjG",
        "outputId": "09b340c7-004d-4433-fd2d-ee22a467433e"
      },
      "execution_count": 13,
      "outputs": [
        {
          "output_type": "stream",
          "name": "stdout",
          "text": [
            "15\n",
            "Jumlah buah: 16\n",
            "Sisa hutang Anda adalah 5000\n",
            "Luas persegi panjang: 120\n",
            "Setiap anak akan mendapatkan bagian kue sebanyak 4.0\n",
            "Hasil pangkat: 64\n",
            "3\n"
          ]
        }
      ]
    },
    {
      "cell_type": "code",
      "source": [
        "#SOAL 1\n",
        "s = float(input(\"Masukkan panjang sisi persegi: \"))\n",
        "luas_persegi = s * s\n",
        "print(luas_persegi)"
      ],
      "metadata": {
        "colab": {
          "base_uri": "https://localhost:8080/"
        },
        "id": "fAQCF7zdPZae",
        "outputId": "7fe89f6f-9f6a-47e9-ef20-522aab22c371"
      },
      "execution_count": 14,
      "outputs": [
        {
          "output_type": "stream",
          "name": "stdout",
          "text": [
            "Masukkan panjang sisi persegi: 2.5\n",
            "6.25\n"
          ]
        }
      ]
    }
  ]
}