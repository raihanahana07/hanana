{
  "cells": [
    {
      "cell_type": "markdown",
      "metadata": {
        "id": "view-in-github",
        "colab_type": "text"
      },
      "source": [
        "<a href=\"https://colab.research.google.com/github/raihanahana07/hanana/blob/main/Tugas7_hana.ipynb\" target=\"_parent\"><img src=\"https://colab.research.google.com/assets/colab-badge.svg\" alt=\"Open In Colab\"/></a>"
      ]
    },
    {
      "cell_type": "code",
      "source": [
        "#program nama\n",
        "nama = input( \"masukkan nama anda : \")\n",
        "#mencetak pesan\n",
        "print (f\" halo {nama} ! selamat belajar python!\")"
      ],
      "metadata": {
        "colab": {
          "base_uri": "https://localhost:8080/"
        },
        "id": "hxaTa8nIDwZN",
        "outputId": "4faba8f4-3a16-4655-89f8-d07cad899ee2"
      },
      "execution_count": 8,
      "outputs": [
        {
          "output_type": "stream",
          "name": "stdout",
          "text": [
            "masukkan nama anda : Hana\n",
            " halo Hana ! selamat belajar python!\n"
          ]
        }
      ]
    },
    {
      "cell_type": "code",
      "source": [
        "#program menghitung luas persegi panjang\n",
        "p=int(input(\"masukkan nilai panjang :\"))\n",
        "L=int(input(\"masukkan nilai lebar :\"))\n",
        "Luas=p*L\n",
        "print(f\"Luas persegi panjang adalah : {Luas}\")"
      ],
      "metadata": {
        "colab": {
          "base_uri": "https://localhost:8080/"
        },
        "id": "dbqptNNGGFZE",
        "outputId": "d716ef08-2065-4071-8ef0-fbea267aac81"
      },
      "execution_count": 9,
      "outputs": [
        {
          "output_type": "stream",
          "name": "stdout",
          "text": [
            "masukkan nilai panjang :5\n",
            "masukkan nilai lebar :3\n",
            "Luas persegi panjang adalah : 15\n"
          ]
        }
      ]
    },
    {
      "cell_type": "code",
      "source": [
        "#program meminta bilangan genap atau ganjil\n",
        "N= int(input(\"masukkan bilangan bulat :\"))\n",
        "if N%2==0:\n",
        "  print(f\"{N} adalah bilangan genap :\")\n",
        "else:\n",
        "  print(f\"{N} adalah bilangan ganjil :\")"
      ],
      "metadata": {
        "colab": {
          "base_uri": "https://localhost:8080/"
        },
        "id": "JW_52tnGKV5_",
        "outputId": "48939321-b944-4898-eb6b-0d771cca5dfc"
      },
      "execution_count": 6,
      "outputs": [
        {
          "output_type": "stream",
          "name": "stdout",
          "text": [
            "masukkan bilangan bulat :7\n",
            "7 adalah bilangan ganjil :\n"
          ]
        }
      ]
    },
    {
      "cell_type": "code",
      "source": [
        "#buat program menampilkan deret bialngan\n",
        "N = int(input())\n",
        "for i in range(1,N+1):\n",
        "  print(i,end=\" \")"
      ],
      "metadata": {
        "colab": {
          "base_uri": "https://localhost:8080/"
        },
        "id": "HQODSdNpLIpu",
        "outputId": "3db0d4d5-3854-4b4e-8c1a-1d4672d6145d"
      },
      "execution_count": 5,
      "outputs": [
        {
          "output_type": "stream",
          "name": "stdout",
          "text": [
            "20\n",
            "1 2 3 4 5 6 7 8 9 10 11 12 13 14 15 16 17 18 19 20 "
          ]
        }
      ]
    },
    {
      "cell_type": "code",
      "source": [
        "#program meminta bilangan antara a dan b\n",
        "a = int(input(\"masukkan bilangan a :\"))\n",
        "b = int(input(\"masukkan bilangan b :\"))\n",
        "for i in range(a,b+1):\n",
        "  jumlah = sum(range(a, b+1))\n",
        "\n",
        "print(f\"Jumlah dari {a} sampai {b} adalah {jumlah}\")"
      ],
      "metadata": {
        "colab": {
          "base_uri": "https://localhost:8080/"
        },
        "id": "E7IBRMpCNRte",
        "outputId": "b802eb95-3eba-4583-bd13-ce74506f00f1"
      },
      "execution_count": 3,
      "outputs": [
        {
          "output_type": "stream",
          "name": "stdout",
          "text": [
            "masukkan bilangan a :3\n",
            "masukkan bilangan b :7\n",
            "Jumlah dari 3 sampai 7 adalah 25\n"
          ]
        }
      ]
    },
    {
      "cell_type": "code",
      "source": [
        "#meminta pengguna masukkan bilangan bulat a dan b\n",
        "a = int(input(\"masukkan bilangan bulat a :\"))\n",
        "b = int(input(\"masukkan bilangan bulat b :\"))\n",
        "print(\"bilangan genap dalam rentan tersebut adalah:\")\n",
        "\n",
        "for i in range (a, b+1):\n",
        "  if i % 2 == 0:\n",
        "    print(i,end=\" \")"
      ],
      "metadata": {
        "colab": {
          "base_uri": "https://localhost:8080/"
        },
        "id": "1XCpMAVEScYA",
        "outputId": "b0d00bd5-d3aa-468f-8f69-ef25db1622ea"
      },
      "execution_count": 9,
      "outputs": [
        {
          "output_type": "stream",
          "name": "stdout",
          "text": [
            "masukkan bilangan bulat a :3\n",
            "masukkan bilangan bulat b :10\n",
            "bilangan genap dalam rentan tersebut adalah:\n",
            "4 6 8 10 "
          ]
        }
      ]
    },
    {
      "cell_type": "code",
      "source": [
        "#proram mencetak nilai nilai dari array dalam urutan terbalik\n",
        "A = [5, 2, 8, 1]\n",
        "for i in range(len(A)-1, -1, -1):\n",
        "  print(A[i], end=\" \")"
      ],
      "metadata": {
        "colab": {
          "base_uri": "https://localhost:8080/"
        },
        "id": "hfUaD80DWAwP",
        "outputId": "79b7ab33-182e-4ce9-da00-e6993642791a"
      },
      "execution_count": 10,
      "outputs": [
        {
          "output_type": "stream",
          "name": "stdout",
          "text": [
            "1 8 2 5 "
          ]
        }
      ]
    },
    {
      "cell_type": "code",
      "source": [
        "bilangan = int(input(\"Masukkan sebuah bilangan bulat: \"))\n",
        "if bilangan <= 1:\n",
        "  print(f\"{bilangan} bukan bilangan prima.\")\n",
        "else:\n",
        "  is_prima = True\n",
        "  for i in range(2, int(bilangan**0.5) + 1):\n",
        "    if bilangan % i == 0:\n",
        "      is_prima = false\n",
        "      break\n",
        "    if is_prima:\n",
        "      print(f\"{bilangan} adalah bilangan prima.\")\n",
        "    else:\n",
        "      print(f\"{bilangan} bukan bilangan prima.\")"
      ],
      "metadata": {
        "colab": {
          "base_uri": "https://localhost:8080/"
        },
        "id": "GFSyCb2Dbp07",
        "outputId": "d2825da2-efd6-4bf3-bf14-d6328af3f710"
      },
      "execution_count": 21,
      "outputs": [
        {
          "output_type": "stream",
          "name": "stdout",
          "text": [
            "Masukkan sebuah bilangan bulat: 13\n",
            "13 adalah bilangan prima.\n",
            "13 adalah bilangan prima.\n"
          ]
        }
      ]
    }
  ],
  "metadata": {
    "colab": {
      "name": "Welcome To Colab",
      "toc_visible": true,
      "provenance": [],
      "include_colab_link": true
    },
    "kernelspec": {
      "display_name": "Python 3",
      "name": "python3"
    }
  },
  "nbformat": 4,
  "nbformat_minor": 0
}