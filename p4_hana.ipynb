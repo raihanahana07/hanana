{
  "cells": [
    {
      "cell_type": "markdown",
      "metadata": {
        "id": "view-in-github",
        "colab_type": "text"
      },
      "source": [
        "<a href=\"https://colab.research.google.com/github/raihanahana07/hanana/blob/main/p4_hana.ipynb\" target=\"_parent\"><img src=\"https://colab.research.google.com/assets/colab-badge.svg\" alt=\"Open In Colab\"/></a>"
      ]
    },
    {
      "cell_type": "code",
      "source": [
        "#Program Test\n",
        "#Spesifikasi : Menghitung nilai A dan B\n",
        "\n",
        "#KAMUS\n",
        "#A : int\n",
        "#B : int\n",
        "\n",
        "#ALGORITMA\n",
        "A = int(input('Masukkan nilai A='))           #input\n",
        "B = int(input('Masukkan nilai B='))\n",
        "\n",
        "A = A + B                  #proses\n",
        "\n",
        "print(A)                   #output\n",
        "print(B)"
      ],
      "metadata": {
        "colab": {
          "base_uri": "https://localhost:8080/"
        },
        "id": "AWrJDKszNCWR",
        "outputId": "2a56235d-7a2e-4abd-9fe0-84d3f46c32a6"
      },
      "execution_count": null,
      "outputs": [
        {
          "output_type": "stream",
          "name": "stdout",
          "text": [
            "Masukkan nilai A=3\n",
            "Masukkan nilai B=6\n",
            "9\n",
            "6\n"
          ]
        }
      ]
    },
    {
      "cell_type": "code",
      "source": [
        "#Program Tinggiratarata\n",
        "#Menerima harga 3 keleremg dan menghitung rata-ratanya\n",
        "\n",
        "#KAMUS\n",
        "# M : Int\n",
        "# H : Int\n",
        "# K : Int\n",
        "\n",
        "#ALGORITMA\n",
        "M=int(input(\"Masukan jumlah kelereng merah: \"))\n",
        "H=int(input(\"Masukkan jumlah kelereng hijau:\"))\n",
        "K=int(input(\"Masukkan jumlah kelereng Kuning:\"))\n",
        "\n",
        "HargaPembayaran =(M*10 + H*15 + K*20)\n",
        "print(HargaPembayaran)"
      ],
      "metadata": {
        "colab": {
          "base_uri": "https://localhost:8080/"
        },
        "id": "5x1naXpiNWzs",
        "outputId": "6022eafd-c350-4051-fe54-a9372792285b"
      },
      "execution_count": null,
      "outputs": [
        {
          "output_type": "stream",
          "name": "stdout",
          "text": [
            "Masukan jumlah kelereng merah: 10\n",
            "Masukkan jumlah kelereng hijau:15\n",
            "Masukkan jumlah kelereng Kuning:20\n",
            "725\n"
          ]
        }
      ]
    }
  ],
  "metadata": {
    "colab": {
      "name": "Welcome To Colab",
      "toc_visible": true,
      "provenance": [],
      "include_colab_link": true
    },
    "kernelspec": {
      "display_name": "Python 3",
      "name": "python3"
    }
  },
  "nbformat": 4,
  "nbformat_minor": 0
}